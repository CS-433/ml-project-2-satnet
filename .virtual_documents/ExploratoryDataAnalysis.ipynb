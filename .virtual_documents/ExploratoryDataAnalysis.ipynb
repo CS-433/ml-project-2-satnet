# Set the paths to the images to load
training_folder_path = "dataset/training"
testing_folder_path = "dataset/test_set_images/"
images_path = training_folder_path + "/images/"
ground_truth_path = training_folder_path + "/groundtruth/"

# Load all the training and testing images and convert to numpy arrays
train_imgs = load_images(images_path)
train_arrays = [np.array(img) / 255 for img in train_imgs]
train_gt_imgs = load_images(ground_truth_path)
train_gt_arrays = [np.array(img) / 255 for img in train_gt_imgs]

test_imgs = load_images(testing_folder_path)
test_arrays = [np.array(img) / 255 for img in test_imgs]
