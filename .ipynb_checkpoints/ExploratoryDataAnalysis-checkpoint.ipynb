{
 "cells": [
  {
   "cell_type": "code",
   "execution_count": 1,
   "id": "e3e5d23f-ead8-42af-850e-b8dba5896920",
   "metadata": {},
   "outputs": [],
   "source": [
    "%matplotlib inline\n",
    "import matplotlib.pyplot as plt\n",
    "import os, sys\n",
    "from PIL import Image\n",
    "\n",
    "from utils.helpers import *"
   ]
  },
  {
   "cell_type": "code",
   "execution_count": 2,
   "id": "3e9d6b8f-2239-457d-a7f8-6593a11451a4",
   "metadata": {},
   "outputs": [
    {
     "name": "stdout",
     "output_type": "stream",
     "text": [
      "Loading 20 images from tehe training dataset\n"
     ]
    }
   ],
   "source": [
    "# training images:\n",
    "root_training_dir = \"dataset/training/\"\n",
    "image_dir = root_training_dir + \"images/\"\n",
    "gt_dir = root_training_dir + \"groundtruth/\"\n",
    "\n",
    "files_train = os.listdir(image_dir)\n",
    "\n",
    "n = min(20, len(files_train))  # Load maximum 20 images\n",
    "print(\"Loading \" + str(n) + \" images from tehe training dataset\")\n",
    "\n",
    "imgs = [load_image(image_dir + files_train[i]) for i in range(n)]\n",
    "gt_imgs = [load_image(gt_dir + files_train[i]) for i in range(n)]"
   ]
  },
  {
   "cell_type": "code",
   "execution_count": 3,
   "id": "078016a5-907d-430e-a9cc-def50d8eea9f",
   "metadata": {},
   "outputs": [
    {
     "name": "stdout",
     "output_type": "stream",
     "text": [
      "Loading 20 images from the test dataset\n"
     ]
    }
   ],
   "source": [
    "# Test: (for later)\n",
    "root_test_dir = \"dataset/test_set_images/\"\n",
    "folder_names = os.listdir(root_test_dir)\n",
    "n = min(20, len(files_train))  # Load maximum 20 images\n",
    "print(\"Loading \" + str(n) + \" images from the test dataset\")\n",
    "imgs_test = [\n",
    "    load_image(os.path.join(root_test_dir, folder_names[i], f\"{folder_names[i]}.png\"))\n",
    "    for i in range(n)\n",
    "]"
   ]
  },
  {
   "cell_type": "code",
   "execution_count": 4,
   "id": "9fd1806d-334b-4696-9cb3-7a25eb36ac2a",
   "metadata": {},
   "outputs": [
    {
     "name": "stdout",
     "output_type": "stream",
     "text": [
      "Image size for training = 400,400\n"
     ]
    },
    {
     "ename": "NameError",
     "evalue": "name 'np' is not defined",
     "output_type": "error",
     "traceback": [
      "\u001B[1;31m---------------------------------------------------------------------------\u001B[0m",
      "\u001B[1;31mNameError\u001B[0m                                 Traceback (most recent call last)",
      "\u001B[1;32m~\\AppData\\Local\\Temp\\ipykernel_17184\\1879053017.py\u001B[0m in \u001B[0;36m<module>\u001B[1;34m\u001B[0m\n\u001B[0;32m      2\u001B[0m \u001B[1;33m\u001B[0m\u001B[0m\n\u001B[0;32m      3\u001B[0m \u001B[1;31m# Show first image and its groundtruth image\u001B[0m\u001B[1;33m\u001B[0m\u001B[1;33m\u001B[0m\u001B[1;33m\u001B[0m\u001B[0m\n\u001B[1;32m----> 4\u001B[1;33m \u001B[0mcimg\u001B[0m \u001B[1;33m=\u001B[0m \u001B[0mconcatenate_images\u001B[0m\u001B[1;33m(\u001B[0m\u001B[0mimgs\u001B[0m\u001B[1;33m[\u001B[0m\u001B[1;36m0\u001B[0m\u001B[1;33m]\u001B[0m\u001B[1;33m,\u001B[0m \u001B[0mgt_imgs\u001B[0m\u001B[1;33m[\u001B[0m\u001B[1;36m0\u001B[0m\u001B[1;33m]\u001B[0m\u001B[1;33m)\u001B[0m\u001B[1;33m\u001B[0m\u001B[1;33m\u001B[0m\u001B[0m\n\u001B[0m\u001B[0;32m      5\u001B[0m \u001B[0mfig1\u001B[0m \u001B[1;33m=\u001B[0m \u001B[0mplt\u001B[0m\u001B[1;33m.\u001B[0m\u001B[0mfigure\u001B[0m\u001B[1;33m(\u001B[0m\u001B[0mfigsize\u001B[0m\u001B[1;33m=\u001B[0m\u001B[1;33m(\u001B[0m\u001B[1;36m10\u001B[0m\u001B[1;33m,\u001B[0m \u001B[1;36m10\u001B[0m\u001B[1;33m)\u001B[0m\u001B[1;33m)\u001B[0m\u001B[1;33m\u001B[0m\u001B[1;33m\u001B[0m\u001B[0m\n\u001B[0;32m      6\u001B[0m \u001B[0mplt\u001B[0m\u001B[1;33m.\u001B[0m\u001B[0mimshow\u001B[0m\u001B[1;33m(\u001B[0m\u001B[0mcimg\u001B[0m\u001B[1;33m,\u001B[0m \u001B[0mcmap\u001B[0m\u001B[1;33m=\u001B[0m\u001B[1;34m\"Greys_r\"\u001B[0m\u001B[1;33m)\u001B[0m\u001B[1;33m\u001B[0m\u001B[1;33m\u001B[0m\u001B[0m\n",
      "\u001B[1;32m~\\OneDrive\\EPFL\\MA1\\Machine_learning\\project2\\ml-project-2-satnet\\helpers.py\u001B[0m in \u001B[0;36mconcatenate_images\u001B[1;34m(img, gt_img)\u001B[0m\n\u001B[0;32m     23\u001B[0m         \u001B[0mcimg\u001B[0m \u001B[1;33m=\u001B[0m \u001B[0mnp\u001B[0m\u001B[1;33m.\u001B[0m\u001B[0mconcatenate\u001B[0m\u001B[1;33m(\u001B[0m\u001B[1;33m(\u001B[0m\u001B[0mimg\u001B[0m\u001B[1;33m,\u001B[0m \u001B[0mgt_img\u001B[0m\u001B[1;33m)\u001B[0m\u001B[1;33m,\u001B[0m \u001B[0maxis\u001B[0m\u001B[1;33m=\u001B[0m\u001B[1;36m1\u001B[0m\u001B[1;33m)\u001B[0m\u001B[1;33m\u001B[0m\u001B[1;33m\u001B[0m\u001B[0m\n\u001B[0;32m     24\u001B[0m     \u001B[1;32melse\u001B[0m\u001B[1;33m:\u001B[0m\u001B[1;33m\u001B[0m\u001B[1;33m\u001B[0m\u001B[0m\n\u001B[1;32m---> 25\u001B[1;33m         \u001B[0mgt_img_3c\u001B[0m \u001B[1;33m=\u001B[0m \u001B[0mnp\u001B[0m\u001B[1;33m.\u001B[0m\u001B[0mzeros\u001B[0m\u001B[1;33m(\u001B[0m\u001B[1;33m(\u001B[0m\u001B[0mw\u001B[0m\u001B[1;33m,\u001B[0m \u001B[0mh\u001B[0m\u001B[1;33m,\u001B[0m \u001B[1;36m3\u001B[0m\u001B[1;33m)\u001B[0m\u001B[1;33m,\u001B[0m \u001B[0mdtype\u001B[0m\u001B[1;33m=\u001B[0m\u001B[0mnp\u001B[0m\u001B[1;33m.\u001B[0m\u001B[0muint8\u001B[0m\u001B[1;33m)\u001B[0m\u001B[1;33m\u001B[0m\u001B[1;33m\u001B[0m\u001B[0m\n\u001B[0m\u001B[0;32m     26\u001B[0m         \u001B[0mgt_img8\u001B[0m \u001B[1;33m=\u001B[0m \u001B[0mimg_float_to_uint8\u001B[0m\u001B[1;33m(\u001B[0m\u001B[0mgt_img\u001B[0m\u001B[1;33m)\u001B[0m\u001B[1;33m\u001B[0m\u001B[1;33m\u001B[0m\u001B[0m\n\u001B[0;32m     27\u001B[0m         \u001B[0mgt_img_3c\u001B[0m\u001B[1;33m[\u001B[0m\u001B[1;33m:\u001B[0m\u001B[1;33m,\u001B[0m \u001B[1;33m:\u001B[0m\u001B[1;33m,\u001B[0m \u001B[1;36m0\u001B[0m\u001B[1;33m]\u001B[0m \u001B[1;33m=\u001B[0m \u001B[0mgt_img8\u001B[0m\u001B[1;33m\u001B[0m\u001B[1;33m\u001B[0m\u001B[0m\n",
      "\u001B[1;31mNameError\u001B[0m: name 'np' is not defined"
     ]
    }
   ],
   "source": [
    "print(\"Image size for training = \" + str(imgs[0].shape[0]) + \",\" + str(imgs[0].shape[1]))\n",
    "\n",
    "# Show first image and its groundtruth image\n",
    "cimg = concatenate_images(imgs[0], gt_imgs[0])\n",
    "fig1 = plt.figure(figsize=(10, 10))\n",
    "plt.imshow(cimg, cmap=\"Greys_r\")"
   ]
  },
  {
   "cell_type": "code",
   "execution_count": null,
   "id": "52e6121b-f3ad-42ac-af88-0b6a4c1fc1ac",
   "metadata": {},
   "outputs": [],
   "source": [
    "print(\"Image size for test = \" + str(imgs_test[0].shape[0]) + \",\" + str(imgs_test[0].shape[1]))\n",
    "fig1 = plt.figure(figsize=(10, 10))\n",
    "plt.imshow(imgs_test[0], cmap=\"Greys_r\")"
   ]
  },
  {
   "cell_type": "code",
   "execution_count": null,
   "id": "04b43361-b647-4ee8-a894-ecf80161d43c",
   "metadata": {},
   "outputs": [],
   "source": []
  }
 ],
 "metadata": {
  "kernelspec": {
   "display_name": "Python 3 (ipykernel)",
   "language": "python",
   "name": "python3"
  },
  "language_info": {
   "codemirror_mode": {
    "name": "ipython",
    "version": 3
   },
   "file_extension": ".py",
   "mimetype": "text/x-python",
   "name": "python",
   "nbconvert_exporter": "python",
   "pygments_lexer": "ipython3",
   "version": "3.7.16"
  }
 },
 "nbformat": 4,
 "nbformat_minor": 5
}
