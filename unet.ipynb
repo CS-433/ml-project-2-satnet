{
 "cells": [
  {
   "metadata": {},
   "cell_type": "code",
   "outputs": [],
   "execution_count": null,
   "source": [
    "import numpy as np\n",
    "from google.colab import drive\n",
    "drive.mount('/content/drive')"
   ],
   "id": "6395e22e6f1fb192"
  },
  {
   "metadata": {},
   "cell_type": "code",
   "outputs": [],
   "execution_count": null,
   "source": "%cd /content/drive/MyDrive/ml-project-2-satnet",
   "id": "47ef9b77898341cd"
  },
  {
   "metadata": {},
   "cell_type": "code",
   "outputs": [],
   "execution_count": null,
   "source": [
    "%load_ext autoreload\n",
    "%autoreload 2"
   ],
   "id": "7f264a22f8ccb1cf"
  },
  {
   "metadata": {},
   "cell_type": "code",
   "outputs": [],
   "execution_count": null,
   "source": "%cd utils",
   "id": "822633ab36e3ae0d"
  },
  {
   "metadata": {},
   "cell_type": "code",
   "outputs": [],
   "execution_count": null,
   "source": "!pip install torch torchvision tqdm",
   "id": "8a95311e3a80f0de"
  },
  {
   "metadata": {},
   "cell_type": "code",
   "outputs": [],
   "execution_count": null,
   "source": "!python unet_trainer.py",
   "id": "41e386f26146903e"
  },
  {
   "metadata": {},
   "cell_type": "code",
   "outputs": [],
   "execution_count": null,
   "source": "!python unet_inference.py",
   "id": "1b82b913da11fade"
  },
  {
   "metadata": {
    "ExecuteTime": {
     "end_time": "2024-12-11T13:41:46.492742Z",
     "start_time": "2024-12-11T13:41:46.485269Z"
    }
   },
   "cell_type": "code",
   "source": "from utils.helpers import *",
   "id": "3a2e44f1c785e9b2",
   "outputs": [],
   "execution_count": 28
  },
  {
   "metadata": {
    "ExecuteTime": {
     "end_time": "2024-12-11T13:44:28.686413Z",
     "start_time": "2024-12-11T13:44:28.677336Z"
    }
   },
   "cell_type": "code",
   "source": [
    "i = load_image('./dataset/short_testing/predicted/single_predicted.png')\n",
    "im = img_float_to_uint8(i)\n",
    "flattened_im = im.flatten()"
   ],
   "id": "23811cb278cbed88",
   "outputs": [],
   "execution_count": 34
  },
  {
   "metadata": {
    "ExecuteTime": {
     "end_time": "2024-12-11T14:03:56.074358Z",
     "start_time": "2024-12-11T14:03:56.069753Z"
    }
   },
   "cell_type": "code",
   "source": [
    "PATCH_SIZE = 16\n",
    "sqrt_n_patches = 9"
   ],
   "id": "9d4dce8af0c06d2",
   "outputs": [],
   "execution_count": 42
  },
  {
   "metadata": {
    "ExecuteTime": {
     "end_time": "2024-12-11T14:03:57.082196Z",
     "start_time": "2024-12-11T14:03:56.459996Z"
    }
   },
   "cell_type": "code",
   "source": "array_to_submission(\"u_net_test_1.csv\", flattened_im, sqrt_n_patches, PATCH_SIZE)",
   "id": "94238967cafe4099",
   "outputs": [],
   "execution_count": 43
  }
 ],
 "metadata": {
  "kernelspec": {
   "display_name": "Python 3",
   "language": "python",
   "name": "python3"
  },
  "language_info": {
   "codemirror_mode": {
    "name": "ipython",
    "version": 2
   },
   "file_extension": ".py",
   "mimetype": "text/x-python",
   "name": "python",
   "nbconvert_exporter": "python",
   "pygments_lexer": "ipython2",
   "version": "2.7.6"
  }
 },
 "nbformat": 4,
 "nbformat_minor": 5
}
