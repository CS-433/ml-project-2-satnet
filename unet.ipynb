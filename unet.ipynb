{
 "cells": [
  {
   "cell_type": "code",
   "execution_count": 1,
   "id": "6395e22e6f1fb192",
   "metadata": {
    "colab": {
     "base_uri": "https://localhost:8080/"
    },
    "executionInfo": {
     "elapsed": 21848,
     "status": "ok",
     "timestamp": 1733950607668,
     "user": {
      "displayName": "Mahmoud Dokmak",
      "userId": "10840373000110428185"
     },
     "user_tz": -60
    },
    "id": "6395e22e6f1fb192",
    "outputId": "ef25b47d-3059-46a7-9bfc-c3b24ce10d82"
   },
   "outputs": [
    {
     "name": "stdout",
     "output_type": "stream",
     "text": [
      "Mounted at /content/drive\n"
     ]
    }
   ],
   "source": [
    "from google.colab import drive\n",
    "drive.mount('/content/drive')"
   ]
  },
  {
   "cell_type": "code",
   "execution_count": 2,
   "id": "47ef9b77898341cd",
   "metadata": {
    "colab": {
     "base_uri": "https://localhost:8080/"
    },
    "executionInfo": {
     "elapsed": 18,
     "status": "ok",
     "timestamp": 1733950607668,
     "user": {
      "displayName": "Mahmoud Dokmak",
      "userId": "10840373000110428185"
     },
     "user_tz": -60
    },
    "id": "47ef9b77898341cd",
    "outputId": "321487e2-8b14-4ace-ede2-bcaee50cd28f"
   },
   "outputs": [
    {
     "name": "stdout",
     "output_type": "stream",
     "text": [
      "/content/drive/MyDrive/ml-project-2-satnet\n"
     ]
    }
   ],
   "source": [
    "%cd /content/drive/MyDrive/ml-project-2-satnet"
   ]
  },
  {
   "cell_type": "code",
   "execution_count": 9,
   "id": "7f264a22f8ccb1cf",
   "metadata": {
    "colab": {
     "base_uri": "https://localhost:8080/"
    },
    "executionInfo": {
     "elapsed": 187,
     "status": "ok",
     "timestamp": 1733950783183,
     "user": {
      "displayName": "Mahmoud Dokmak",
      "userId": "10840373000110428185"
     },
     "user_tz": -60
    },
    "id": "7f264a22f8ccb1cf",
    "outputId": "2d285cd1-81a1-4dd8-aa92-a2f463078638"
   },
   "outputs": [
    {
     "name": "stdout",
     "output_type": "stream",
     "text": [
      "The autoreload extension is already loaded. To reload it, use:\n",
      "  %reload_ext autoreload\n"
     ]
    }
   ],
   "source": [
    "%load_ext autoreload\n",
    "%autoreload 2"
   ]
  },
  {
   "cell_type": "code",
   "execution_count": 4,
   "id": "822633ab36e3ae0d",
   "metadata": {
    "colab": {
     "base_uri": "https://localhost:8080/"
    },
    "executionInfo": {
     "elapsed": 12,
     "status": "ok",
     "timestamp": 1733950607669,
     "user": {
      "displayName": "Mahmoud Dokmak",
      "userId": "10840373000110428185"
     },
     "user_tz": -60
    },
    "id": "822633ab36e3ae0d",
    "outputId": "17e925eb-4243-41e6-8254-12f63485b4be"
   },
   "outputs": [
    {
     "name": "stdout",
     "output_type": "stream",
     "text": [
      "/content/drive/MyDrive/ml-project-2-satnet/utils\n"
     ]
    }
   ],
   "source": [
    "%cd utils"
   ]
  },
  {
   "cell_type": "code",
   "execution_count": 5,
   "id": "8a95311e3a80f0de",
   "metadata": {
    "executionInfo": {
     "elapsed": 10,
     "status": "ok",
     "timestamp": 1733950607670,
     "user": {
      "displayName": "Mahmoud Dokmak",
      "userId": "10840373000110428185"
     },
     "user_tz": -60
    },
    "id": "8a95311e3a80f0de"
   },
   "outputs": [],
   "source": [
    "#!pip install torch torchvision tqdm"
   ]
  },
  {
   "cell_type": "code",
   "execution_count": 6,
   "id": "41e386f26146903e",
   "metadata": {
    "executionInfo": {
     "elapsed": 9,
     "status": "ok",
     "timestamp": 1733950607670,
     "user": {
      "displayName": "Mahmoud Dokmak",
      "userId": "10840373000110428185"
     },
     "user_tz": -60
    },
    "id": "41e386f26146903e"
   },
   "outputs": [],
   "source": [
    "#!python unet_trainer.py"
   ]
  },
  {
   "cell_type": "code",
   "execution_count": null,
   "id": "1b82b913da11fade",
   "metadata": {
    "colab": {
     "base_uri": "https://localhost:8080/"
    },
    "executionInfo": {
     "elapsed": 40629,
     "status": "ok",
     "timestamp": 1733940144379,
     "user": {
      "displayName": "Mahmoud Dokmak",
      "userId": "10840373000110428185"
     },
     "user_tz": -60
    },
    "id": "1b82b913da11fade",
    "outputId": "ced6582f-57f6-4aba-d5a9-ba83be635273"
   },
   "outputs": [
    {
     "name": "stdout",
     "output_type": "stream",
     "text": [
      "Device:  cpu\n",
      "Loading model\n",
      "/content/drive/MyDrive/ml-project-2-satnet/utils/unet_inference.py:115: FutureWarning: You are using `torch.load` with `weights_only=False` (the current default value), which uses the default pickle module implicitly. It is possible to construct malicious pickle data which will execute arbitrary code during unpickling (See https://github.com/pytorch/pytorch/blob/main/SECURITY.md#untrusted-models for more details). In a future release, the default value for `weights_only` will be flipped to `True`. This limits the functions that could be executed during unpickling. Arbitrary objects will no longer be allowed to be loaded via this mode unless they are explicitly allowlisted by the user via `torch.serialization.add_safe_globals`. We recommend you start setting `weights_only=True` for any use case where you don't have full control of the loaded file. Please open an issue on GitHub for any issues related to this experimental feature.\n",
      "  model.load_state_dict(torch.load(model_pth, map_location=torch.device(device)))\n",
      "Model loaded\n",
      "We accessed the images and masks\n",
      "Now I am here\n",
      "Figure(640x480)\n",
      "Single Image Inference\n",
      "/content/drive/MyDrive/ml-project-2-satnet/utils/unet_inference.py:147: FutureWarning: You are using `torch.load` with `weights_only=False` (the current default value), which uses the default pickle module implicitly. It is possible to construct malicious pickle data which will execute arbitrary code during unpickling (See https://github.com/pytorch/pytorch/blob/main/SECURITY.md#untrusted-models for more details). In a future release, the default value for `weights_only` will be flipped to `True`. This limits the functions that could be executed during unpickling. Arbitrary objects will no longer be allowed to be loaded via this mode unless they are explicitly allowlisted by the user via `torch.serialization.add_safe_globals`. We recommend you start setting `weights_only=True` for any use case where you don't have full control of the loaded file. Please open an issue on GitHub for any issues related to this experimental feature.\n",
      "  model.load_state_dict(torch.load(model_pth, map_location=torch.device(device)))\n",
      "Figure(640x480)\n",
      "Done\n"
     ]
    }
   ],
   "source": [
    "#!python unet_inference.py"
   ]
  },
  {
   "cell_type": "code",
   "execution_count": 26,
   "id": "syw3IGSg4kjZ",
   "metadata": {
    "executionInfo": {
     "elapsed": 195,
     "status": "ok",
     "timestamp": 1733951677561,
     "user": {
      "displayName": "Mahmoud Dokmak",
      "userId": "10840373000110428185"
     },
     "user_tz": -60
    },
    "id": "syw3IGSg4kjZ"
   },
   "outputs": [],
   "source": [
    "from helpers import *\n",
    "from mask_to_submission import *"
   ]
  },
  {
   "cell_type": "code",
   "execution_count": 34,
   "id": "OSdq5xq5mNXG",
   "metadata": {
    "colab": {
     "base_uri": "https://localhost:8080/"
    },
    "executionInfo": {
     "elapsed": 212,
     "status": "ok",
     "timestamp": 1733952717557,
     "user": {
      "displayName": "Mahmoud Dokmak",
      "userId": "10840373000110428185"
     },
     "user_tz": -60
    },
    "id": "OSdq5xq5mNXG",
    "outputId": "c5180b2e-c14f-453d-ca87-5158862476d0"
   },
   "outputs": [
    {
     "name": "stdout",
     "output_type": "stream",
     "text": [
      "Collected image filenames:\n",
      "../dataset/short_testing/predicted/predicted_satImage_009.png\n",
      "../dataset/short_testing/predicted/predicted_satImage_033.png\n",
      "../dataset/short_testing/predicted/predicted_satImage_042.png\n",
      "../dataset/short_testing/predicted/predicted_satImage_075.png\n",
      "../dataset/short_testing/predicted/predicted_satImage_086.png\n",
      "Submission file unet_test.csv created successfully.\n"
     ]
    }
   ],
   "source": [
    "import os\n",
    "from mask_to_submission import masks_to_submission\n",
    "\n",
    "# Define the path to your images and the submission file\n",
    "image_directory = '../dataset/short_testing/predicted/'  # Update this path\n",
    "submission_filename = 'unet_test.csv'\n",
    "\n",
    "# Collect all image filenames\n",
    "image_filenames = [os.path.join(image_directory, f) for f in os.listdir(image_directory) if f.endswith('.png')]\n",
    "\n",
    "# Sort the image filenames numerically\n",
    "image_filenames.sort(key=lambda x: int(re.search(r'\\d+', x).group()))\n",
    "\n",
    "# Print the collected image filenames for verification\n",
    "print(\"Collected image filenames:\")\n",
    "for filename in image_filenames:\n",
    "    print(filename)\n",
    "\n",
    "# Create the submission file\n",
    "masks_to_submission(submission_filename, *image_filenames)\n",
    "print(f\"Submission file {submission_filename} created successfully.\")"
   ]
  },
  {
   "cell_type": "code",
   "execution_count": null,
   "id": "nNFVqnn1oTZD",
   "metadata": {
    "id": "nNFVqnn1oTZD"
   },
   "outputs": [],
   "source": []
  }
 ],
 "metadata": {
  "colab": {
   "provenance": []
  },
  "kernelspec": {
   "display_name": "Python 3",
   "language": "python",
   "name": "python3"
  },
  "language_info": {
   "codemirror_mode": {
    "name": "ipython",
    "version": 2
   },
   "file_extension": ".py",
   "mimetype": "text/x-python",
   "name": "python",
   "nbconvert_exporter": "python",
   "pygments_lexer": "ipython2",
   "version": "2.7.6"
  }
 },
 "nbformat": 4,
 "nbformat_minor": 5
}
